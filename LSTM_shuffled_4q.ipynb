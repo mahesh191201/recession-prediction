{
 "cells": [
  {
   "cell_type": "markdown",
   "metadata": {},
   "source": [
    "Notebook focused on optimizing a model to predict a recession within the next four quarters (1 year)."
   ]
  },
  {
   "cell_type": "markdown",
   "metadata": {},
   "source": [
    "### Import Dependencies"
   ]
  },
  {
   "cell_type": "code",
   "execution_count": 3,
   "metadata": {},
   "outputs": [],
   "source": [
    "import pandas as pd\n",
    "import numpy as np\n",
    "from tensorflow.keras.models import Sequential\n",
    "from tensorflow.keras.layers import Dense, Dropout, LSTM, BatchNormalization\n",
    "from sklearn.model_selection import train_test_split\n",
    "from sklearn.preprocessing import StandardScaler\n",
    "import time\n",
    "from sklearn.metrics import confusion_matrix, classification_report"
   ]
  },
  {
   "cell_type": "markdown",
   "metadata": {},
   "source": [
    "### Prep Data"
   ]
  },
  {
   "cell_type": "code",
   "execution_count": 4,
   "metadata": {},
   "outputs": [],
   "source": [
    "# Read in data\n",
    "df = pd.read_csv(\"resources/all_data.csv\")\n",
    "\n",
    "# Set index to quarter\n",
    "df = df.set_index('quarter')"
   ]
  },
  {
   "cell_type": "code",
   "execution_count": 5,
   "metadata": {},
   "outputs": [
    {
     "data": {
      "text/html": [
       "<div>\n",
       "<style scoped>\n",
       "    .dataframe tbody tr th:only-of-type {\n",
       "        vertical-align: middle;\n",
       "    }\n",
       "\n",
       "    .dataframe tbody tr th {\n",
       "        vertical-align: top;\n",
       "    }\n",
       "\n",
       "    .dataframe thead th {\n",
       "        text-align: right;\n",
       "    }\n",
       "</style>\n",
       "<table border=\"1\" class=\"dataframe\">\n",
       "  <thead>\n",
       "    <tr style=\"text-align: right;\">\n",
       "      <th></th>\n",
       "      <th>avg_consumer_price_index</th>\n",
       "      <th>gdp</th>\n",
       "      <th>gdp_pct_change</th>\n",
       "      <th>avg_housing_starts</th>\n",
       "      <th>output_gap</th>\n",
       "      <th>avg_unemployment_rate</th>\n",
       "      <th>fed_funds_avg_rate</th>\n",
       "      <th>fed_funds_percent_change_prev_quarter</th>\n",
       "      <th>fed_funds_st_dev_rate</th>\n",
       "      <th>10YT_minus_2YT_avg</th>\n",
       "      <th>10YT_minus_2YT_percent_change_prev_quarter</th>\n",
       "      <th>real_disp_pers_inc</th>\n",
       "      <th>personal_consumption_exp_excl_food_energy</th>\n",
       "      <th>tot_public_debt_as_pct_of_gdp</th>\n",
       "      <th>gross_private_domestic_invest</th>\n",
       "      <th>M2_velocity</th>\n",
       "      <th>median_sls_price_houses_sold_US</th>\n",
       "      <th>personal_consumption_expenditures</th>\n",
       "    </tr>\n",
       "    <tr>\n",
       "      <th>quarter</th>\n",
       "      <th></th>\n",
       "      <th></th>\n",
       "      <th></th>\n",
       "      <th></th>\n",
       "      <th></th>\n",
       "      <th></th>\n",
       "      <th></th>\n",
       "      <th></th>\n",
       "      <th></th>\n",
       "      <th></th>\n",
       "      <th></th>\n",
       "      <th></th>\n",
       "      <th></th>\n",
       "      <th></th>\n",
       "      <th></th>\n",
       "      <th></th>\n",
       "      <th></th>\n",
       "      <th></th>\n",
       "    </tr>\n",
       "  </thead>\n",
       "  <tbody>\n",
       "    <tr>\n",
       "      <th>2019Q1</th>\n",
       "      <td>253.311333</td>\n",
       "      <td>21098.827</td>\n",
       "      <td>3.9</td>\n",
       "      <td>1213.000000</td>\n",
       "      <td>0.848147</td>\n",
       "      <td>4.133333</td>\n",
       "      <td>2.401311</td>\n",
       "      <td>0.083088</td>\n",
       "      <td>0.004646</td>\n",
       "      <td>0.170000</td>\n",
       "      <td>-0.271429</td>\n",
       "      <td>4.5</td>\n",
       "      <td>1.6</td>\n",
       "      <td>104.40334</td>\n",
       "      <td>3783.364</td>\n",
       "      <td>1.458</td>\n",
       "      <td>313000.0</td>\n",
       "      <td>14266.250</td>\n",
       "    </tr>\n",
       "    <tr>\n",
       "      <th>2019Q2</th>\n",
       "      <td>255.139333</td>\n",
       "      <td>21340.267</td>\n",
       "      <td>4.7</td>\n",
       "      <td>1255.666667</td>\n",
       "      <td>0.828815</td>\n",
       "      <td>3.500000</td>\n",
       "      <td>2.397813</td>\n",
       "      <td>-0.001457</td>\n",
       "      <td>0.024002</td>\n",
       "      <td>0.213333</td>\n",
       "      <td>0.254902</td>\n",
       "      <td>2.4</td>\n",
       "      <td>1.6</td>\n",
       "      <td>103.20060</td>\n",
       "      <td>3749.471</td>\n",
       "      <td>1.457</td>\n",
       "      <td>322500.0</td>\n",
       "      <td>14511.176</td>\n",
       "    </tr>\n",
       "  </tbody>\n",
       "</table>\n",
       "</div>"
      ],
      "text/plain": [
       "         avg_consumer_price_index        gdp  gdp_pct_change  \\\n",
       "quarter                                                        \n",
       "2019Q1                 253.311333  21098.827             3.9   \n",
       "2019Q2                 255.139333  21340.267             4.7   \n",
       "\n",
       "         avg_housing_starts  output_gap  avg_unemployment_rate  \\\n",
       "quarter                                                          \n",
       "2019Q1          1213.000000    0.848147               4.133333   \n",
       "2019Q2          1255.666667    0.828815               3.500000   \n",
       "\n",
       "         fed_funds_avg_rate  fed_funds_percent_change_prev_quarter  \\\n",
       "quarter                                                              \n",
       "2019Q1             2.401311                               0.083088   \n",
       "2019Q2             2.397813                              -0.001457   \n",
       "\n",
       "         fed_funds_st_dev_rate  10YT_minus_2YT_avg  \\\n",
       "quarter                                              \n",
       "2019Q1                0.004646            0.170000   \n",
       "2019Q2                0.024002            0.213333   \n",
       "\n",
       "         10YT_minus_2YT_percent_change_prev_quarter  real_disp_pers_inc  \\\n",
       "quarter                                                                   \n",
       "2019Q1                                    -0.271429                 4.5   \n",
       "2019Q2                                     0.254902                 2.4   \n",
       "\n",
       "         personal_consumption_exp_excl_food_energy  \\\n",
       "quarter                                              \n",
       "2019Q1                                         1.6   \n",
       "2019Q2                                         1.6   \n",
       "\n",
       "         tot_public_debt_as_pct_of_gdp  gross_private_domestic_invest  \\\n",
       "quarter                                                                 \n",
       "2019Q1                       104.40334                       3783.364   \n",
       "2019Q2                       103.20060                       3749.471   \n",
       "\n",
       "         M2_velocity  median_sls_price_houses_sold_US  \\\n",
       "quarter                                                 \n",
       "2019Q1         1.458                         313000.0   \n",
       "2019Q2         1.457                         322500.0   \n",
       "\n",
       "         personal_consumption_expenditures  \n",
       "quarter                                     \n",
       "2019Q1                           14266.250  \n",
       "2019Q2                           14511.176  "
      ]
     },
     "execution_count": 5,
     "metadata": {},
     "output_type": "execute_result"
    }
   ],
   "source": [
    "# Save 2019 Q1 & Q2\n",
    "df_2019 = df.iloc[[-4,-3],:]\n",
    "df_2019 = df_2019.drop(columns=['recession_actual'])\n",
    "df_2019"
   ]
  },
  {
   "cell_type": "code",
   "execution_count": 6,
   "metadata": {
    "scrolled": true
   },
   "outputs": [
    {
     "data": {
      "text/html": [
       "<div>\n",
       "<style scoped>\n",
       "    .dataframe tbody tr th:only-of-type {\n",
       "        vertical-align: middle;\n",
       "    }\n",
       "\n",
       "    .dataframe tbody tr th {\n",
       "        vertical-align: top;\n",
       "    }\n",
       "\n",
       "    .dataframe thead th {\n",
       "        text-align: right;\n",
       "    }\n",
       "</style>\n",
       "<table border=\"1\" class=\"dataframe\">\n",
       "  <thead>\n",
       "    <tr style=\"text-align: right;\">\n",
       "      <th></th>\n",
       "      <th>avg_consumer_price_index</th>\n",
       "      <th>gdp</th>\n",
       "      <th>gdp_pct_change</th>\n",
       "      <th>avg_housing_starts</th>\n",
       "      <th>output_gap</th>\n",
       "      <th>recession_actual</th>\n",
       "      <th>avg_unemployment_rate</th>\n",
       "      <th>fed_funds_avg_rate</th>\n",
       "      <th>fed_funds_percent_change_prev_quarter</th>\n",
       "      <th>fed_funds_st_dev_rate</th>\n",
       "      <th>10YT_minus_2YT_avg</th>\n",
       "      <th>10YT_minus_2YT_percent_change_prev_quarter</th>\n",
       "      <th>real_disp_pers_inc</th>\n",
       "      <th>personal_consumption_exp_excl_food_energy</th>\n",
       "      <th>tot_public_debt_as_pct_of_gdp</th>\n",
       "      <th>gross_private_domestic_invest</th>\n",
       "      <th>M2_velocity</th>\n",
       "      <th>median_sls_price_houses_sold_US</th>\n",
       "      <th>personal_consumption_expenditures</th>\n",
       "    </tr>\n",
       "    <tr>\n",
       "      <th>quarter</th>\n",
       "      <th></th>\n",
       "      <th></th>\n",
       "      <th></th>\n",
       "      <th></th>\n",
       "      <th></th>\n",
       "      <th></th>\n",
       "      <th></th>\n",
       "      <th></th>\n",
       "      <th></th>\n",
       "      <th></th>\n",
       "      <th></th>\n",
       "      <th></th>\n",
       "      <th></th>\n",
       "      <th></th>\n",
       "      <th></th>\n",
       "      <th></th>\n",
       "      <th></th>\n",
       "      <th></th>\n",
       "      <th></th>\n",
       "    </tr>\n",
       "  </thead>\n",
       "  <tbody>\n",
       "    <tr>\n",
       "      <th>2018Q1</th>\n",
       "      <td>249.250333</td>\n",
       "      <td>20163.159</td>\n",
       "      <td>5.0</td>\n",
       "      <td>1320.666667</td>\n",
       "      <td>0.202456</td>\n",
       "      <td>0.0</td>\n",
       "      <td>4.333333</td>\n",
       "      <td>1.448966</td>\n",
       "      <td>0.204683</td>\n",
       "      <td>0.083902</td>\n",
       "      <td>0.596667</td>\n",
       "      <td>-0.113861</td>\n",
       "      <td>6.9</td>\n",
       "      <td>1.8</td>\n",
       "      <td>104.59493</td>\n",
       "      <td>3542.412</td>\n",
       "      <td>1.451</td>\n",
       "      <td>331800.0</td>\n",
       "      <td>13728.357</td>\n",
       "    </tr>\n",
       "    <tr>\n",
       "      <th>2018Q2</th>\n",
       "      <td>250.578667</td>\n",
       "      <td>20510.177</td>\n",
       "      <td>7.1</td>\n",
       "      <td>1259.666667</td>\n",
       "      <td>0.589182</td>\n",
       "      <td>0.0</td>\n",
       "      <td>3.833333</td>\n",
       "      <td>1.727176</td>\n",
       "      <td>0.192007</td>\n",
       "      <td>0.075492</td>\n",
       "      <td>0.446667</td>\n",
       "      <td>-0.251397</td>\n",
       "      <td>2.7</td>\n",
       "      <td>2.0</td>\n",
       "      <td>103.33928</td>\n",
       "      <td>3561.592</td>\n",
       "      <td>1.461</td>\n",
       "      <td>315600.0</td>\n",
       "      <td>13939.828</td>\n",
       "    </tr>\n",
       "    <tr>\n",
       "      <th>2018Q3</th>\n",
       "      <td>251.828667</td>\n",
       "      <td>20749.752</td>\n",
       "      <td>4.8</td>\n",
       "      <td>1233.000000</td>\n",
       "      <td>0.821959</td>\n",
       "      <td>0.0</td>\n",
       "      <td>3.866667</td>\n",
       "      <td>1.923492</td>\n",
       "      <td>0.113663</td>\n",
       "      <td>0.047184</td>\n",
       "      <td>0.253333</td>\n",
       "      <td>-0.432836</td>\n",
       "      <td>3.3</td>\n",
       "      <td>2.0</td>\n",
       "      <td>103.69309</td>\n",
       "      <td>3683.981</td>\n",
       "      <td>1.462</td>\n",
       "      <td>330900.0</td>\n",
       "      <td>14114.559</td>\n",
       "    </tr>\n",
       "    <tr>\n",
       "      <th>2018Q4</th>\n",
       "      <td>252.759000</td>\n",
       "      <td>20897.804</td>\n",
       "      <td>2.9</td>\n",
       "      <td>1185.000000</td>\n",
       "      <td>0.592021</td>\n",
       "      <td>0.0</td>\n",
       "      <td>3.566667</td>\n",
       "      <td>2.217097</td>\n",
       "      <td>0.152641</td>\n",
       "      <td>0.066218</td>\n",
       "      <td>0.233333</td>\n",
       "      <td>-0.078947</td>\n",
       "      <td>2.8</td>\n",
       "      <td>1.9</td>\n",
       "      <td>105.15026</td>\n",
       "      <td>3725.234</td>\n",
       "      <td>1.462</td>\n",
       "      <td>322800.0</td>\n",
       "      <td>14211.920</td>\n",
       "    </tr>\n",
       "    <tr>\n",
       "      <th>2019Q1</th>\n",
       "      <td>253.311333</td>\n",
       "      <td>21098.827</td>\n",
       "      <td>3.9</td>\n",
       "      <td>1213.000000</td>\n",
       "      <td>0.848147</td>\n",
       "      <td>0.0</td>\n",
       "      <td>4.133333</td>\n",
       "      <td>2.401311</td>\n",
       "      <td>0.083088</td>\n",
       "      <td>0.004646</td>\n",
       "      <td>0.170000</td>\n",
       "      <td>-0.271429</td>\n",
       "      <td>4.5</td>\n",
       "      <td>1.6</td>\n",
       "      <td>104.40334</td>\n",
       "      <td>3783.364</td>\n",
       "      <td>1.458</td>\n",
       "      <td>313000.0</td>\n",
       "      <td>14266.250</td>\n",
       "    </tr>\n",
       "  </tbody>\n",
       "</table>\n",
       "</div>"
      ],
      "text/plain": [
       "         avg_consumer_price_index        gdp  gdp_pct_change  \\\n",
       "quarter                                                        \n",
       "2018Q1                 249.250333  20163.159             5.0   \n",
       "2018Q2                 250.578667  20510.177             7.1   \n",
       "2018Q3                 251.828667  20749.752             4.8   \n",
       "2018Q4                 252.759000  20897.804             2.9   \n",
       "2019Q1                 253.311333  21098.827             3.9   \n",
       "\n",
       "         avg_housing_starts  output_gap  recession_actual  \\\n",
       "quarter                                                     \n",
       "2018Q1          1320.666667    0.202456               0.0   \n",
       "2018Q2          1259.666667    0.589182               0.0   \n",
       "2018Q3          1233.000000    0.821959               0.0   \n",
       "2018Q4          1185.000000    0.592021               0.0   \n",
       "2019Q1          1213.000000    0.848147               0.0   \n",
       "\n",
       "         avg_unemployment_rate  fed_funds_avg_rate  \\\n",
       "quarter                                              \n",
       "2018Q1                4.333333            1.448966   \n",
       "2018Q2                3.833333            1.727176   \n",
       "2018Q3                3.866667            1.923492   \n",
       "2018Q4                3.566667            2.217097   \n",
       "2019Q1                4.133333            2.401311   \n",
       "\n",
       "         fed_funds_percent_change_prev_quarter  fed_funds_st_dev_rate  \\\n",
       "quarter                                                                 \n",
       "2018Q1                                0.204683               0.083902   \n",
       "2018Q2                                0.192007               0.075492   \n",
       "2018Q3                                0.113663               0.047184   \n",
       "2018Q4                                0.152641               0.066218   \n",
       "2019Q1                                0.083088               0.004646   \n",
       "\n",
       "         10YT_minus_2YT_avg  10YT_minus_2YT_percent_change_prev_quarter  \\\n",
       "quarter                                                                   \n",
       "2018Q1             0.596667                                   -0.113861   \n",
       "2018Q2             0.446667                                   -0.251397   \n",
       "2018Q3             0.253333                                   -0.432836   \n",
       "2018Q4             0.233333                                   -0.078947   \n",
       "2019Q1             0.170000                                   -0.271429   \n",
       "\n",
       "         real_disp_pers_inc  personal_consumption_exp_excl_food_energy  \\\n",
       "quarter                                                                  \n",
       "2018Q1                  6.9                                        1.8   \n",
       "2018Q2                  2.7                                        2.0   \n",
       "2018Q3                  3.3                                        2.0   \n",
       "2018Q4                  2.8                                        1.9   \n",
       "2019Q1                  4.5                                        1.6   \n",
       "\n",
       "         tot_public_debt_as_pct_of_gdp  gross_private_domestic_invest  \\\n",
       "quarter                                                                 \n",
       "2018Q1                       104.59493                       3542.412   \n",
       "2018Q2                       103.33928                       3561.592   \n",
       "2018Q3                       103.69309                       3683.981   \n",
       "2018Q4                       105.15026                       3725.234   \n",
       "2019Q1                       104.40334                       3783.364   \n",
       "\n",
       "         M2_velocity  median_sls_price_houses_sold_US  \\\n",
       "quarter                                                 \n",
       "2018Q1         1.451                         331800.0   \n",
       "2018Q2         1.461                         315600.0   \n",
       "2018Q3         1.462                         330900.0   \n",
       "2018Q4         1.462                         322800.0   \n",
       "2019Q1         1.458                         313000.0   \n",
       "\n",
       "         personal_consumption_expenditures  \n",
       "quarter                                     \n",
       "2018Q1                           13728.357  \n",
       "2018Q2                           13939.828  \n",
       "2018Q3                           14114.559  \n",
       "2018Q4                           14211.920  \n",
       "2019Q1                           14266.250  "
      ]
     },
     "execution_count": 6,
     "metadata": {},
     "output_type": "execute_result"
    }
   ],
   "source": [
    "# Drop rows with missing values\n",
    "df = df.dropna()\n",
    "df.tail()"
   ]
  },
  {
   "cell_type": "markdown",
   "metadata": {},
   "source": [
    "### Shift Data"
   ]
  },
  {
   "cell_type": "code",
   "execution_count": 7,
   "metadata": {},
   "outputs": [
    {
     "data": {
      "text/html": [
       "<div>\n",
       "<style scoped>\n",
       "    .dataframe tbody tr th:only-of-type {\n",
       "        vertical-align: middle;\n",
       "    }\n",
       "\n",
       "    .dataframe tbody tr th {\n",
       "        vertical-align: top;\n",
       "    }\n",
       "\n",
       "    .dataframe thead th {\n",
       "        text-align: right;\n",
       "    }\n",
       "</style>\n",
       "<table border=\"1\" class=\"dataframe\">\n",
       "  <thead>\n",
       "    <tr style=\"text-align: right;\">\n",
       "      <th></th>\n",
       "      <th>avg_consumer_price_index</th>\n",
       "      <th>gdp</th>\n",
       "      <th>gdp_pct_change</th>\n",
       "      <th>avg_housing_starts</th>\n",
       "      <th>output_gap</th>\n",
       "      <th>recession_actual</th>\n",
       "      <th>avg_unemployment_rate</th>\n",
       "      <th>fed_funds_avg_rate</th>\n",
       "      <th>fed_funds_percent_change_prev_quarter</th>\n",
       "      <th>fed_funds_st_dev_rate</th>\n",
       "      <th>10YT_minus_2YT_avg</th>\n",
       "      <th>10YT_minus_2YT_percent_change_prev_quarter</th>\n",
       "      <th>real_disp_pers_inc</th>\n",
       "      <th>personal_consumption_exp_excl_food_energy</th>\n",
       "      <th>tot_public_debt_as_pct_of_gdp</th>\n",
       "      <th>gross_private_domestic_invest</th>\n",
       "      <th>M2_velocity</th>\n",
       "      <th>median_sls_price_houses_sold_US</th>\n",
       "      <th>personal_consumption_expenditures</th>\n",
       "      <th>recession_4q_out</th>\n",
       "    </tr>\n",
       "    <tr>\n",
       "      <th>quarter</th>\n",
       "      <th></th>\n",
       "      <th></th>\n",
       "      <th></th>\n",
       "      <th></th>\n",
       "      <th></th>\n",
       "      <th></th>\n",
       "      <th></th>\n",
       "      <th></th>\n",
       "      <th></th>\n",
       "      <th></th>\n",
       "      <th></th>\n",
       "      <th></th>\n",
       "      <th></th>\n",
       "      <th></th>\n",
       "      <th></th>\n",
       "      <th></th>\n",
       "      <th></th>\n",
       "      <th></th>\n",
       "      <th></th>\n",
       "      <th></th>\n",
       "    </tr>\n",
       "  </thead>\n",
       "  <tbody>\n",
       "    <tr>\n",
       "      <th>2018Q1</th>\n",
       "      <td>249.250333</td>\n",
       "      <td>20163.159</td>\n",
       "      <td>5.0</td>\n",
       "      <td>1320.666667</td>\n",
       "      <td>0.202456</td>\n",
       "      <td>0.0</td>\n",
       "      <td>4.333333</td>\n",
       "      <td>1.448966</td>\n",
       "      <td>0.204683</td>\n",
       "      <td>0.083902</td>\n",
       "      <td>0.596667</td>\n",
       "      <td>-0.113861</td>\n",
       "      <td>6.9</td>\n",
       "      <td>1.8</td>\n",
       "      <td>104.59493</td>\n",
       "      <td>3542.412</td>\n",
       "      <td>1.451</td>\n",
       "      <td>331800.0</td>\n",
       "      <td>13728.357</td>\n",
       "      <td>0.0</td>\n",
       "    </tr>\n",
       "    <tr>\n",
       "      <th>2018Q2</th>\n",
       "      <td>250.578667</td>\n",
       "      <td>20510.177</td>\n",
       "      <td>7.1</td>\n",
       "      <td>1259.666667</td>\n",
       "      <td>0.589182</td>\n",
       "      <td>0.0</td>\n",
       "      <td>3.833333</td>\n",
       "      <td>1.727176</td>\n",
       "      <td>0.192007</td>\n",
       "      <td>0.075492</td>\n",
       "      <td>0.446667</td>\n",
       "      <td>-0.251397</td>\n",
       "      <td>2.7</td>\n",
       "      <td>2.0</td>\n",
       "      <td>103.33928</td>\n",
       "      <td>3561.592</td>\n",
       "      <td>1.461</td>\n",
       "      <td>315600.0</td>\n",
       "      <td>13939.828</td>\n",
       "      <td>NaN</td>\n",
       "    </tr>\n",
       "    <tr>\n",
       "      <th>2018Q3</th>\n",
       "      <td>251.828667</td>\n",
       "      <td>20749.752</td>\n",
       "      <td>4.8</td>\n",
       "      <td>1233.000000</td>\n",
       "      <td>0.821959</td>\n",
       "      <td>0.0</td>\n",
       "      <td>3.866667</td>\n",
       "      <td>1.923492</td>\n",
       "      <td>0.113663</td>\n",
       "      <td>0.047184</td>\n",
       "      <td>0.253333</td>\n",
       "      <td>-0.432836</td>\n",
       "      <td>3.3</td>\n",
       "      <td>2.0</td>\n",
       "      <td>103.69309</td>\n",
       "      <td>3683.981</td>\n",
       "      <td>1.462</td>\n",
       "      <td>330900.0</td>\n",
       "      <td>14114.559</td>\n",
       "      <td>NaN</td>\n",
       "    </tr>\n",
       "    <tr>\n",
       "      <th>2018Q4</th>\n",
       "      <td>252.759000</td>\n",
       "      <td>20897.804</td>\n",
       "      <td>2.9</td>\n",
       "      <td>1185.000000</td>\n",
       "      <td>0.592021</td>\n",
       "      <td>0.0</td>\n",
       "      <td>3.566667</td>\n",
       "      <td>2.217097</td>\n",
       "      <td>0.152641</td>\n",
       "      <td>0.066218</td>\n",
       "      <td>0.233333</td>\n",
       "      <td>-0.078947</td>\n",
       "      <td>2.8</td>\n",
       "      <td>1.9</td>\n",
       "      <td>105.15026</td>\n",
       "      <td>3725.234</td>\n",
       "      <td>1.462</td>\n",
       "      <td>322800.0</td>\n",
       "      <td>14211.920</td>\n",
       "      <td>NaN</td>\n",
       "    </tr>\n",
       "    <tr>\n",
       "      <th>2019Q1</th>\n",
       "      <td>253.311333</td>\n",
       "      <td>21098.827</td>\n",
       "      <td>3.9</td>\n",
       "      <td>1213.000000</td>\n",
       "      <td>0.848147</td>\n",
       "      <td>0.0</td>\n",
       "      <td>4.133333</td>\n",
       "      <td>2.401311</td>\n",
       "      <td>0.083088</td>\n",
       "      <td>0.004646</td>\n",
       "      <td>0.170000</td>\n",
       "      <td>-0.271429</td>\n",
       "      <td>4.5</td>\n",
       "      <td>1.6</td>\n",
       "      <td>104.40334</td>\n",
       "      <td>3783.364</td>\n",
       "      <td>1.458</td>\n",
       "      <td>313000.0</td>\n",
       "      <td>14266.250</td>\n",
       "      <td>NaN</td>\n",
       "    </tr>\n",
       "  </tbody>\n",
       "</table>\n",
       "</div>"
      ],
      "text/plain": [
       "         avg_consumer_price_index        gdp  gdp_pct_change  \\\n",
       "quarter                                                        \n",
       "2018Q1                 249.250333  20163.159             5.0   \n",
       "2018Q2                 250.578667  20510.177             7.1   \n",
       "2018Q3                 251.828667  20749.752             4.8   \n",
       "2018Q4                 252.759000  20897.804             2.9   \n",
       "2019Q1                 253.311333  21098.827             3.9   \n",
       "\n",
       "         avg_housing_starts  output_gap  recession_actual  \\\n",
       "quarter                                                     \n",
       "2018Q1          1320.666667    0.202456               0.0   \n",
       "2018Q2          1259.666667    0.589182               0.0   \n",
       "2018Q3          1233.000000    0.821959               0.0   \n",
       "2018Q4          1185.000000    0.592021               0.0   \n",
       "2019Q1          1213.000000    0.848147               0.0   \n",
       "\n",
       "         avg_unemployment_rate  fed_funds_avg_rate  \\\n",
       "quarter                                              \n",
       "2018Q1                4.333333            1.448966   \n",
       "2018Q2                3.833333            1.727176   \n",
       "2018Q3                3.866667            1.923492   \n",
       "2018Q4                3.566667            2.217097   \n",
       "2019Q1                4.133333            2.401311   \n",
       "\n",
       "         fed_funds_percent_change_prev_quarter  fed_funds_st_dev_rate  \\\n",
       "quarter                                                                 \n",
       "2018Q1                                0.204683               0.083902   \n",
       "2018Q2                                0.192007               0.075492   \n",
       "2018Q3                                0.113663               0.047184   \n",
       "2018Q4                                0.152641               0.066218   \n",
       "2019Q1                                0.083088               0.004646   \n",
       "\n",
       "         10YT_minus_2YT_avg  10YT_minus_2YT_percent_change_prev_quarter  \\\n",
       "quarter                                                                   \n",
       "2018Q1             0.596667                                   -0.113861   \n",
       "2018Q2             0.446667                                   -0.251397   \n",
       "2018Q3             0.253333                                   -0.432836   \n",
       "2018Q4             0.233333                                   -0.078947   \n",
       "2019Q1             0.170000                                   -0.271429   \n",
       "\n",
       "         real_disp_pers_inc  personal_consumption_exp_excl_food_energy  \\\n",
       "quarter                                                                  \n",
       "2018Q1                  6.9                                        1.8   \n",
       "2018Q2                  2.7                                        2.0   \n",
       "2018Q3                  3.3                                        2.0   \n",
       "2018Q4                  2.8                                        1.9   \n",
       "2019Q1                  4.5                                        1.6   \n",
       "\n",
       "         tot_public_debt_as_pct_of_gdp  gross_private_domestic_invest  \\\n",
       "quarter                                                                 \n",
       "2018Q1                       104.59493                       3542.412   \n",
       "2018Q2                       103.33928                       3561.592   \n",
       "2018Q3                       103.69309                       3683.981   \n",
       "2018Q4                       105.15026                       3725.234   \n",
       "2019Q1                       104.40334                       3783.364   \n",
       "\n",
       "         M2_velocity  median_sls_price_houses_sold_US  \\\n",
       "quarter                                                 \n",
       "2018Q1         1.451                         331800.0   \n",
       "2018Q2         1.461                         315600.0   \n",
       "2018Q3         1.462                         330900.0   \n",
       "2018Q4         1.462                         322800.0   \n",
       "2019Q1         1.458                         313000.0   \n",
       "\n",
       "         personal_consumption_expenditures  recession_4q_out  \n",
       "quarter                                                       \n",
       "2018Q1                           13728.357               0.0  \n",
       "2018Q2                           13939.828               NaN  \n",
       "2018Q3                           14114.559               NaN  \n",
       "2018Q4                           14211.920               NaN  \n",
       "2019Q1                           14266.250               NaN  "
      ]
     },
     "execution_count": 7,
     "metadata": {},
     "output_type": "execute_result"
    }
   ],
   "source": [
    "# Add new column with 'recession actual' column shifted 4 rows up (4 quarters ahead) to data frame\n",
    "df['recession_4q_out'] = df['recession_actual'].shift(-4)\n",
    "df.tail()"
   ]
  },
  {
   "cell_type": "code",
   "execution_count": 8,
   "metadata": {},
   "outputs": [],
   "source": [
    "# Drop missing values\n",
    "df = df.dropna()"
   ]
  },
  {
   "cell_type": "code",
   "execution_count": 9,
   "metadata": {},
   "outputs": [],
   "source": [
    "# Define y variables\n",
    "y = df['recession_4q_out']\n",
    "\n",
    "# Define X\n",
    "X = df.drop(columns=['recession_4q_out'])"
   ]
  },
  {
   "cell_type": "markdown",
   "metadata": {},
   "source": [
    "### Split and scale data"
   ]
  },
  {
   "cell_type": "code",
   "execution_count": 10,
   "metadata": {},
   "outputs": [],
   "source": [
    "# Split data into training and testing\n",
    "X_train, X_test, y_train, y_test = train_test_split(X, y, train_size=0.8, stratify=y)"
   ]
  },
  {
   "cell_type": "code",
   "execution_count": 11,
   "metadata": {
    "scrolled": true
   },
   "outputs": [],
   "source": [
    "# Create scaler object\n",
    "X_scaler = StandardScaler().fit(X_train)"
   ]
  },
  {
   "cell_type": "code",
   "execution_count": 12,
   "metadata": {},
   "outputs": [],
   "source": [
    "# Use X_scaler to scale training, testing, and full X data sets\n",
    "X_train_scaled = X_scaler.transform(X_train)\n",
    "X_test_scaled = X_scaler.transform(X_test)\n",
    "X_full_scaled = X_scaler.transform(X)"
   ]
  },
  {
   "cell_type": "markdown",
   "metadata": {},
   "source": [
    "### Reshape data to fit LSTM format"
   ]
  },
  {
   "cell_type": "code",
   "execution_count": null,
   "metadata": {},
   "outputs": [],
   "source": [
    "# Method to reshape data\n",
    "def reshape_data(obj):\n",
    "    reshaped_obj = np.reshape(obj, (obj.shape[0], obj.shape[1], 1))\n",
    "    return reshaped_obj"
   ]
  },
  {
   "cell_type": "code",
   "execution_count": null,
   "metadata": {},
   "outputs": [],
   "source": [
    "# Reshape training data\n",
    "reshaped_X1_train_scaled = reshape_data(X1_train_scaled)\n",
    "reshaped_X2_train_scaled = reshape_data(X2_train_scaled)\n",
    "reshaped_X3_train_scaled = reshape_data(X3_train_scaled)"
   ]
  },
  {
   "cell_type": "code",
   "execution_count": null,
   "metadata": {},
   "outputs": [],
   "source": [
    "# Reshape testing data\n",
    "reshaped_X1_test_scaled = reshape_data(X1_test_scaled)\n",
    "reshaped_X2_test_scaled = reshape_data(X2_test_scaled)\n",
    "reshaped_X3_test_scaled = reshape_data(X3_test_scaled)"
   ]
  },
  {
   "cell_type": "code",
   "execution_count": null,
   "metadata": {},
   "outputs": [],
   "source": [
    "# Reshape X_full\n",
    "reshaped_X1_full = reshape_data(X1_full_scaled)\n",
    "reshaped_X2_full = reshape_data(X2_full_scaled)\n",
    "reshaped_X3_full = reshape_data(X3_full_scaled)"
   ]
  },
  {
   "cell_type": "markdown",
   "metadata": {},
   "source": [
    "# Build Model"
   ]
  },
  {
   "cell_type": "code",
   "execution_count": null,
   "metadata": {},
   "outputs": [],
   "source": [
    "# Initialize model\n",
    "model = Sequential()"
   ]
  },
  {
   "cell_type": "code",
   "execution_count": null,
   "metadata": {},
   "outputs": [],
   "source": [
    "# Add layers\n",
    "model.add(LSTM(128, input_shape=(reshaped_X1_train_scaled.shape[1],1), return_sequences=True))\n",
    "model.add(Dropout(0.4))\n",
    "model.add(BatchNormalization())  # Normalize activation outputs\n",
    "\n",
    "model.add(LSTM(128, return_sequences=True))\n",
    "model.add(Dropout(0.4))\n",
    "model.add(BatchNormalization())\n",
    "\n",
    "model.add(LSTM(128))\n",
    "model.add(Dropout(0.4))\n",
    "model.add(BatchNormalization())\n",
    "\n",
    "model.add(Dense(32, activation='relu'))\n",
    "model.add(Dropout(0.4))\n",
    "\n",
    "model.add(Dense(2, activation='softmax'))"
   ]
  },
  {
   "cell_type": "code",
   "execution_count": null,
   "metadata": {},
   "outputs": [],
   "source": [
    "# Compile model\n",
    "model.compile(optimizer=\"adam\", loss=\"sparse_categorical_crossentropy\", metrics=['accuracy'])"
   ]
  },
  {
   "cell_type": "markdown",
   "metadata": {},
   "source": [
    "## Train and predict on X1-Y1 data (recession 1 quarter out)"
   ]
  },
  {
   "cell_type": "code",
   "execution_count": null,
   "metadata": {
    "scrolled": true
   },
   "outputs": [],
   "source": [
    "# Fit the model to the training data\n",
    "model.fit(reshaped_X1_train_scaled, y1_train, validation_split=0.2, epochs=100, shuffle=True, verbose=2)"
   ]
  },
  {
   "cell_type": "code",
   "execution_count": null,
   "metadata": {
    "scrolled": true
   },
   "outputs": [],
   "source": [
    "# Evaluate model using test data\n",
    "model_loss1, model_accuracy1 = model.evaluate(reshaped_X1_test_scaled, y1_test, verbose=2)"
   ]
  },
  {
   "cell_type": "code",
   "execution_count": null,
   "metadata": {},
   "outputs": [],
   "source": [
    "# Make predictions using test data\n",
    "predictions1_class = model.predict_classes(reshaped_X1_test_scaled) # Predicted class"
   ]
  },
  {
   "cell_type": "code",
   "execution_count": null,
   "metadata": {},
   "outputs": [],
   "source": [
    "# Compare results\n",
    "one_qtr_out = pd.DataFrame({\"Predicted\":predictions1_class, \"Actual\":y1_test})\n",
    "one_qtr_out.loc[one_qtr_out[\"Actual\"]==1]"
   ]
  },
  {
   "cell_type": "markdown",
   "metadata": {},
   "source": [
    "#### Confusion Matrix on X1-Y1 data (recession 1 quarter out)"
   ]
  },
  {
   "cell_type": "code",
   "execution_count": null,
   "metadata": {},
   "outputs": [],
   "source": [
    "# Create confusion matrix on X1 model\n",
    "con_mat = confusion_matrix(y1_test, predictions1_class)\n",
    "print(con_mat)"
   ]
  },
  {
   "cell_type": "code",
   "execution_count": null,
   "metadata": {},
   "outputs": [],
   "source": [
    "# Score model\n",
    "print(classification_report(y1_test, predictions1_class))"
   ]
  },
  {
   "cell_type": "code",
   "execution_count": null,
   "metadata": {},
   "outputs": [],
   "source": [
    "# Save model\n",
    "# name1 = f\"shuffled-1q-out-{int(time.time())}\"\n",
    "# model.save(f\"models/{name1}.h5\")"
   ]
  },
  {
   "cell_type": "markdown",
   "metadata": {},
   "source": [
    "### Predict on 2019"
   ]
  },
  {
   "cell_type": "code",
   "execution_count": null,
   "metadata": {},
   "outputs": [],
   "source": [
    "# Scale 2019 data \n",
    "scaled_X1_2019 = X1_scaler.transform(df_2019)\n",
    "\n",
    "# Reshape 2019 data\n",
    "reshaped_X1_2019 = reshape_data(scaled_X1_2019)\n",
    "\n",
    "# Predict on 2019\n",
    "pred_X1_2019 = model.predict_proba(reshaped_X1_2019)\n",
    "print(f\"2019Q1 No Recession Probability: {pred_X1_2019[0][0]}\")\n",
    "print(f\"2019Q1 Recession Probability: {pred_X1_2019[0][1]}\")\n",
    "print(f\"2019Q2 No Recession Probability: {pred_X1_2019[1][0]}\")\n",
    "print(f\"2019Q2 Recession Probability: {pred_X1_2019[1][1]}\")"
   ]
  },
  {
   "cell_type": "markdown",
   "metadata": {},
   "source": [
    "#### Predict on full X1"
   ]
  },
  {
   "cell_type": "code",
   "execution_count": null,
   "metadata": {},
   "outputs": [],
   "source": [
    "pred_X1_full = model.predict_classes(reshaped_X1_full)\n",
    "\n",
    "# Preview results\n",
    "X1_full_results = pd.DataFrame({\"Predicted\":pred_X1_full, \"Actual\":y1})\n",
    "X1_full_results.loc[X1_full_results[\"Actual\"]==1]\n",
    "\n",
    "# Export results for graphing\n",
    "# X1_full_results.to_csv(f\"resources/predictions/X1_S_{int(time.time())}.csv\")"
   ]
  },
  {
   "cell_type": "markdown",
   "metadata": {},
   "source": [
    "### Train and predict on X2-Y2 data (recession 2 quarters out)"
   ]
  },
  {
   "cell_type": "code",
   "execution_count": null,
   "metadata": {},
   "outputs": [],
   "source": [
    "# Fit the model to the training data\n",
    "model.fit(reshaped_X2_train_scaled, y2_train, validation_split=0.2, epochs=100, shuffle=True, verbose=2)"
   ]
  },
  {
   "cell_type": "code",
   "execution_count": null,
   "metadata": {},
   "outputs": [],
   "source": [
    "# Evaluate model using test data\n",
    "model_loss2, model_accuracy2 = model.evaluate(reshaped_X2_test_scaled, y2_test, verbose=2)"
   ]
  },
  {
   "cell_type": "code",
   "execution_count": null,
   "metadata": {},
   "outputs": [],
   "source": [
    "# Make predictions using test data\n",
    "predictions2_class = model.predict_classes(reshaped_X2_test_scaled)"
   ]
  },
  {
   "cell_type": "code",
   "execution_count": null,
   "metadata": {},
   "outputs": [],
   "source": [
    "# Compare results\n",
    "two_qtrs_out = pd.DataFrame({\"Predicted\":predictions2_class, \"Actual\":y2_test})\n",
    "two_qtrs_out.loc[two_qtrs_out[\"Actual\"]==1]"
   ]
  },
  {
   "cell_type": "markdown",
   "metadata": {},
   "source": [
    "#### Confusion Matrix on X2-Y2 data (recession 2 quarters out)"
   ]
  },
  {
   "cell_type": "code",
   "execution_count": null,
   "metadata": {},
   "outputs": [],
   "source": [
    "# Create confusion matrix on X2 model\n",
    "con_mat = confusion_matrix(y2_test, predictions2_class)\n",
    "print(con_mat)"
   ]
  },
  {
   "cell_type": "code",
   "execution_count": null,
   "metadata": {},
   "outputs": [],
   "source": [
    "# Score model\n",
    "print(classification_report(y2_test, predictions2_class))"
   ]
  },
  {
   "cell_type": "code",
   "execution_count": null,
   "metadata": {},
   "outputs": [],
   "source": [
    "# Save model\n",
    "# name2 = f\"shuffled-2q-out-{int(time.time())}\"\n",
    "# model.save(f\"models/{name2}.h5\")"
   ]
  },
  {
   "cell_type": "markdown",
   "metadata": {},
   "source": [
    "### Predict on 2019"
   ]
  },
  {
   "cell_type": "code",
   "execution_count": null,
   "metadata": {},
   "outputs": [],
   "source": [
    "# Scale 2019 data \n",
    "scaled_X2_2019 = X2_scaler.transform(df_2019)\n",
    "\n",
    "# Reshape 2019 data\n",
    "reshaped_X2_2019 = reshape_data(scaled_X2_2019)\n",
    "\n",
    "# Predict on 2019\n",
    "pred_X2_2019 = model.predict_proba(reshaped_X2_2019)\n",
    "print(f\"2019Q1 No Recession Probability: {pred_X2_2019[0][0]}\")\n",
    "print(f\"2019Q1 Recession Probability: {pred_X2_2019[0][1]}\")\n",
    "print(f\"2019Q2 No Recession Probability: {pred_X2_2019[1][0]}\")\n",
    "print(f\"2019Q2 Recession Probability: {pred_X2_2019[1][1]}\")"
   ]
  },
  {
   "cell_type": "markdown",
   "metadata": {},
   "source": [
    "#### Predict on full X2"
   ]
  },
  {
   "cell_type": "code",
   "execution_count": null,
   "metadata": {},
   "outputs": [],
   "source": [
    "pred_X2_full = model.predict_classes(reshaped_X2_full)\n",
    "X2_full_results = pd.DataFrame({\"Predicted\":pred_X2_full, \"Actual\":y2})\n",
    "X2_full_results.loc[X2_full_results[\"Actual\"]==1]\n",
    "# X2_full_results.to_csv(f\"resources/predictions/X2_S_{int(time.time())}.csv\")"
   ]
  },
  {
   "cell_type": "markdown",
   "metadata": {},
   "source": [
    "### Train and predict on X3-Y3 data (recession 4 quarters out)"
   ]
  },
  {
   "cell_type": "code",
   "execution_count": null,
   "metadata": {},
   "outputs": [],
   "source": [
    "# Fit the model to the training data\n",
    "model.fit(reshaped_X3_train_scaled, y3_train, validation_split=0.2, epochs=100, shuffle=True, verbose=2)"
   ]
  },
  {
   "cell_type": "code",
   "execution_count": null,
   "metadata": {},
   "outputs": [],
   "source": [
    "# Validate model using test data\n",
    "model_loss3, model_accuracy3 = model.evaluate(reshaped_X3_test_scaled, y3_test, verbose=2)"
   ]
  },
  {
   "cell_type": "code",
   "execution_count": null,
   "metadata": {},
   "outputs": [],
   "source": [
    "# Make predictions using test data\n",
    "predictions3_class = model.predict_classes(reshaped_X3_test_scaled)"
   ]
  },
  {
   "cell_type": "code",
   "execution_count": null,
   "metadata": {},
   "outputs": [],
   "source": [
    "# Compare results\n",
    "four_qtrs_out = pd.DataFrame({\"Predicted\":predictions3_class, \"Actual\":y3_test})\n",
    "four_qtrs_out.loc[four_qtrs_out[\"Actual\"]==1]"
   ]
  },
  {
   "cell_type": "markdown",
   "metadata": {},
   "source": [
    "#### Confusion Matrix on X3-Y3 data (recession 4 quarters out)"
   ]
  },
  {
   "cell_type": "code",
   "execution_count": null,
   "metadata": {},
   "outputs": [],
   "source": [
    "# Create confusion matrix on X3 model\n",
    "con_mat = confusion_matrix(y3_test, predictions3_class)\n",
    "print(con_mat)"
   ]
  },
  {
   "cell_type": "code",
   "execution_count": null,
   "metadata": {},
   "outputs": [],
   "source": [
    "# Score model\n",
    "print(classification_report(y3_test, predictions3_class))"
   ]
  },
  {
   "cell_type": "code",
   "execution_count": null,
   "metadata": {},
   "outputs": [],
   "source": [
    "# Save model\n",
    "# name3 = f\"shuffled-4q-out-{int(time.time())}\"\n",
    "# model.save(f\"models/{name3}.h5\")"
   ]
  },
  {
   "cell_type": "markdown",
   "metadata": {},
   "source": [
    "### Predict on 2019"
   ]
  },
  {
   "cell_type": "code",
   "execution_count": null,
   "metadata": {},
   "outputs": [],
   "source": [
    "# Scale 2019 data \n",
    "scaled_X3_2019 = X3_scaler.transform(df_2019)\n",
    "\n",
    "# Reshape 2019 data\n",
    "reshaped_X3_2019 = reshape_data(scaled_X3_2019)\n",
    "\n",
    "# Predict on 2019\n",
    "pred_X3_2019 = model.predict_proba(reshaped_X3_2019)\n",
    "print(f\"2019Q1 No Recession Probability: {pred_X3_2019[0][0]}\")\n",
    "print(f\"2019Q1 Recession Probability: {pred_X3_2019[0][1]}\")\n",
    "print(f\"2019Q2 No Recession Probability: {pred_X3_2019[1][0]}\")\n",
    "print(f\"2019Q2 Recession Probability: {pred_X3_2019[1][1]}\")"
   ]
  },
  {
   "cell_type": "markdown",
   "metadata": {},
   "source": [
    "#### Predict on full X3"
   ]
  },
  {
   "cell_type": "code",
   "execution_count": null,
   "metadata": {},
   "outputs": [],
   "source": [
    "pred_X3_full = model.predict_classes(reshaped_X3_full)\n",
    "\n",
    "# Preview results\n",
    "X3_full_results = pd.DataFrame({\"Predicted\":pred_X3_full, \"Actual\":y3})\n",
    "X3_full_results.loc[X3_full_results[\"Actual\"]==1]\n",
    "\n",
    "# Export results for graphing\n",
    "# X3_full_results.to_csv(f\"resources/predictions/X3_S_{int(time.time())}.csv\")"
   ]
  },
  {
   "cell_type": "code",
   "execution_count": null,
   "metadata": {},
   "outputs": [],
   "source": []
  }
 ],
 "metadata": {
  "kernelspec": {
   "display_name": "Python 3",
   "language": "python",
   "name": "python3"
  },
  "language_info": {
   "codemirror_mode": {
    "name": "ipython",
    "version": 3
   },
   "file_extension": ".py",
   "mimetype": "text/x-python",
   "name": "python",
   "nbconvert_exporter": "python",
   "pygments_lexer": "ipython3",
   "version": "3.7.3"
  }
 },
 "nbformat": 4,
 "nbformat_minor": 2
}
