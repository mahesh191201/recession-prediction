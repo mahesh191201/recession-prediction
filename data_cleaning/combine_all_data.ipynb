{
 "cells": [
  {
   "cell_type": "code",
   "execution_count": 8,
   "metadata": {},
   "outputs": [],
   "source": [
    "import pandas as pd\n",
    "import numpy as np\n",
    "from functools import reduce"
   ]
  },
  {
   "cell_type": "markdown",
   "metadata": {},
   "source": [
    "### Merge All Cleaned Data"
   ]
  },
  {
   "cell_type": "code",
   "execution_count": 9,
   "metadata": {},
   "outputs": [],
   "source": [
    "# Read in data\n",
    "cpi = pd.read_csv(\"../resources/cleaned_data/cpi_final.csv\")\n",
    "gdp = pd.read_csv(\"../resources/cleaned_data/gdp_final.csv\")\n",
    "gdp_pct = pd.read_csv(\"../resources/cleaned_data/gdp_pct_chg_final.csv\")\n",
    "houst = pd.read_csv(\"../resources/cleaned_data/housing_starts_final.csv\")\n",
    "opg = pd.read_csv(\"../resources/cleaned_data/output_gap_final.csv\")\n",
    "rec_dt = pd.read_csv(\"../resources/cleaned_data/recession_dates_final.csv\")\n",
    "unrate = pd.read_csv(\"../resources/cleaned_data/unemployment_rate_final.csv\")\n",
    "fed_funds = pd.read_csv(\"../resources/cleaned_data/fed_funds_final.csv\")\n",
    "yield10_2 = pd.read_csv(\"../resources/cleaned_data/10YT_minus_2YT_final.csv\")\n",
    "fred = pd.read_csv(\"../resources/cleaned_data/FRED_data.csv\")"
   ]
  },
  {
   "cell_type": "code",
   "execution_count": 10,
   "metadata": {},
   "outputs": [],
   "source": [
    "# Combine all data sets into one data frame\n",
    "dfs = [cpi, gdp, gdp_pct, houst, opg, rec_dt, unrate, fed_funds, yield10_2, fred]\n",
    "df = reduce(lambda left,right: pd.merge(left,right,on=['quarter'],how='outer'), dfs)"
   ]
  },
  {
   "cell_type": "code",
   "execution_count": 11,
   "metadata": {},
   "outputs": [],
   "source": [
    "# Sort data frame by quarter\n",
    "df = df.sort_values(by=['quarter'])"
   ]
  },
  {
   "cell_type": "code",
   "execution_count": 12,
   "metadata": {},
   "outputs": [],
   "source": [
    "# Drop date columns\n",
    "df = df.drop(columns=['date_x','date_y'])\n",
    "\n",
    "# Rename target column\n",
    "df = df.rename(columns={'target':'recession_actual'})"
   ]
  },
  {
   "cell_type": "markdown",
   "metadata": {},
   "source": [
    "### Export Data"
   ]
  },
  {
   "cell_type": "code",
   "execution_count": 13,
   "metadata": {},
   "outputs": [],
   "source": [
    "# Export to new csv\n",
    "df.to_csv(\"../resources/all_data.csv\", index=False)"
   ]
  }
 ],
 "metadata": {
  "kernelspec": {
   "display_name": "Python 3",
   "language": "python",
   "name": "python3"
  },
  "language_info": {
   "codemirror_mode": {
    "name": "ipython",
    "version": 3
   },
   "file_extension": ".py",
   "mimetype": "text/x-python",
   "name": "python",
   "nbconvert_exporter": "python",
   "pygments_lexer": "ipython3",
   "version": "3.7.3"
  }
 },
 "nbformat": 4,
 "nbformat_minor": 2
}
