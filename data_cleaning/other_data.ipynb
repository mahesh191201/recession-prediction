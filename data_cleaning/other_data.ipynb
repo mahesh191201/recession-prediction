{
 "cells": [
  {
   "cell_type": "code",
   "execution_count": 1,
   "metadata": {},
   "outputs": [],
   "source": [
    "import pandas as pd"
   ]
  },
  {
   "cell_type": "code",
   "execution_count": 2,
   "metadata": {},
   "outputs": [],
   "source": [
    "# Import csvs\n",
    "\n",
    "# Monthly data\n",
    "cpi = pd.read_csv(\"../other/raw/CPI-AUCSA.csv\")\n",
    "housing_starts = pd.read_csv(\"../other/raw/HOUSING-STARTS.csv\")\n",
    "unemp_rt = pd.read_csv(\"../other/raw/UNRATENSA.csv\")\n",
    "\n",
    "# Quarterly data\n",
    "gdp_pct_chg = pd.read_csv(\"../other/raw/GDP-PCT-CHG-SAAR.csv\")\n",
    "gdp = pd.read_csv(\"../other/raw/GDP-SAAR.csv\")\n",
    "output_gap = pd.read_csv(\"../other/raw/OUTPUT-GAP.csv\")\n",
    "recession_dt = pd.read_csv(\"../other/raw/RECESSIONDATES.csv\")"
   ]
  },
  {
   "cell_type": "markdown",
   "metadata": {},
   "source": [
    "### Add 'quarter' column to all data sets"
   ]
  },
  {
   "cell_type": "code",
   "execution_count": 3,
   "metadata": {},
   "outputs": [],
   "source": [
    "# Store data sets in a list\n",
    "mos_data = [cpi, housing_starts, unemp_rt, gdp_pct_chg, gdp, output_gap, recession_dt]"
   ]
  },
  {
   "cell_type": "code",
   "execution_count": 4,
   "metadata": {},
   "outputs": [],
   "source": [
    "# Iterate through data sets\n",
    "for i in mos_data:\n",
    "    \n",
    "    # Add empty column to store quarters\n",
    "    i['quarter'] = '' \n",
    "    \n",
    "    # Convert date column from string to datetime data type\n",
    "    i.date = pd.to_datetime(i.date, format='%Y-%m-%d')\n",
    "    \n",
    "    # Iterate through data frame to define the quarter for each row\n",
    "    for j in range(len(i)):\n",
    "    \n",
    "        # Define month and year variable\n",
    "        month = i.date[j].month\n",
    "        year = str(i.date[j].year)\n",
    "\n",
    "        # Set conditions to choose the quarter\n",
    "        if month in [1, 2, 3]:\n",
    "            quarter = 'Q1'\n",
    "\n",
    "        elif month in [4, 5, 6]:\n",
    "            quarter = 'Q2'\n",
    "\n",
    "        elif month in [7, 8, 9]:\n",
    "            quarter = 'Q3'\n",
    "\n",
    "        else:\n",
    "            quarter = 'Q4'\n",
    "\n",
    "        # Populate 'quarter' column\n",
    "        i.iloc[j, i.columns.get_loc('quarter')] = year + quarter"
   ]
  },
  {
   "cell_type": "markdown",
   "metadata": {},
   "source": [
    "#### Group monthly data by quarter and rename columns"
   ]
  },
  {
   "cell_type": "code",
   "execution_count": 5,
   "metadata": {},
   "outputs": [],
   "source": [
    "# Group by quarter and take average mean\n",
    "cpi_avg = cpi.groupby('quarter').mean().reset_index()\n",
    "avg_housing_starts = housing_starts.groupby('quarter').mean().reset_index()\n",
    "avg_unemp_rt = unemp_rt.groupby('quarter').mean().reset_index()"
   ]
  },
  {
   "cell_type": "code",
   "execution_count": 6,
   "metadata": {},
   "outputs": [],
   "source": [
    "# Rename columns\n",
    "cpi_avg.rename(columns={'consumer_price_index': 'avg_consumer_price_index'}, inplace=True)\n",
    "avg_housing_starts.rename(columns={'housing_starts':'avg_housing_starts'}, inplace=True)\n",
    "avg_unemp_rt.rename(columns={'unemployment_rate':'avg_unemployment_rate'}, inplace=True)"
   ]
  },
  {
   "cell_type": "markdown",
   "metadata": {},
   "source": [
    "### Export all data sets to csv"
   ]
  },
  {
   "cell_type": "code",
   "execution_count": 7,
   "metadata": {},
   "outputs": [],
   "source": [
    "# Export to csv\n",
    "cpi_avg.to_csv(\"../resources/cpi_final.csv\", index=False)\n",
    "avg_housing_starts.to_csv(\"../resources/housing_starts_final.csv\", index=False)\n",
    "avg_unemp_rt.to_csv(\"../resources/unemployment_rate_final.csv\", index=False)\n",
    "gdp_pct_chg.to_csv(\"../resources/gdp_pct_chg_final.csv\", index=False)\n",
    "gdp.to_csv(\"../resources/gdp_final.csv\", index=False)\n",
    "output_gap.to_csv(\"../resources/output_gap_final.csv\", index=False)\n",
    "recession_dt.to_csv(\"../resources/recession_dates_final.csv\", index=False)"
   ]
  }
 ],
 "metadata": {
  "kernelspec": {
   "display_name": "Python 3",
   "language": "python",
   "name": "python3"
  },
  "language_info": {
   "codemirror_mode": {
    "name": "ipython",
    "version": 3
   },
   "file_extension": ".py",
   "mimetype": "text/x-python",
   "name": "python",
   "nbconvert_exporter": "python",
   "pygments_lexer": "ipython3",
   "version": "3.7.3"
  }
 },
 "nbformat": 4,
 "nbformat_minor": 2
}
